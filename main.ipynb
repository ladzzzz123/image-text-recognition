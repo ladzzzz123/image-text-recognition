{
 "cells": [
  {
   "cell_type": "code",
   "execution_count": null,
   "metadata": {
    "scrolled": true
   },
   "outputs": [],
   "source": [
    "from image_processor import ImageProcess\n",
    "import find_labels as fl\n",
    "import label_generator as lg\n",
    "if __name__ == '__main__':\n",
    "    img_name = input(\"name: \")\n",
    "    processor = ImageProcess('images/'+img_name)\n",
    "    # plots preprocessed image\n",
    "    #processor.plot_preprocessed_image()\n",
    "    # detects objects in preprocessed image\n",
    "    candidates = processor.get_candidates()\n",
    "    # plots objects detected\n",
    "    #processor.plot_to_check(candidates, 'Total Objects Detected')\n",
    "    # selects objects containing text\n",
    "    text = processor.predict_char()\n",
    "    # plots the realigned text\n",
    "    raw_result = processor.realign_text()\n",
    "    fl.union_and_find('labels/'+img_name.split('.')[0]+'_single.txt', raw_result)\n",
    "    lg.char_concatenate('labels/'+img_name.split('.')[0]+'_single.txt', 'labels/'+img_name.split('.')[0]+'_label.txt')\n",
    "    lg.plot_labels('labels/'+img_name.split('.')[0]+'_label.txt', 'images/'+img_name)\n",
    "\n",
    "\n",
    "\n"
   ]
  },
  {
   "cell_type": "code",
   "execution_count": null,
   "metadata": {
    "collapsed": true
   },
   "outputs": [],
   "source": []
  },
  {
   "cell_type": "code",
   "execution_count": null,
   "metadata": {
    "collapsed": true
   },
   "outputs": [],
   "source": []
  }
 ],
 "metadata": {
  "kernelspec": {
   "display_name": "Python 3",
   "language": "python",
   "name": "python3"
  },
  "language_info": {
   "codemirror_mode": {
    "name": "ipython",
    "version": 3
   },
   "file_extension": ".py",
   "mimetype": "text/x-python",
   "name": "python",
   "nbconvert_exporter": "python",
   "pygments_lexer": "ipython3",
   "version": "3.6.3"
  }
 },
 "nbformat": 4,
 "nbformat_minor": 2
}
